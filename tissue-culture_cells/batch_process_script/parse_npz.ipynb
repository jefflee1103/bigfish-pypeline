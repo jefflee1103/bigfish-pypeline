{
 "cells": [
  {
   "attachments": {},
   "cell_type": "markdown",
   "id": "22961bd8",
   "metadata": {},
   "source": [
    "# Notebook to parse bigfish npz output\n",
    "## `.npz` ouput of batch processing post segmentation "
   ]
  },
  {
   "cell_type": "code",
   "execution_count": 1,
   "id": "d90452a2",
   "metadata": {},
   "outputs": [],
   "source": [
    "import os\n",
    "import numpy as np\n",
    "import pandas as pd"
   ]
  },
  {
   "cell_type": "code",
   "execution_count": 5,
   "id": "bf6695f1",
   "metadata": {},
   "outputs": [
    {
     "name": "stderr",
     "output_type": "stream",
     "text": [
      "/opt/miniconda3/envs/bigfish_v6/lib/python3.7/site-packages/numpy/core/fromnumeric.py:3441: RuntimeWarning: Mean of empty slice.\n",
      "  out=out, **kwargs)\n",
      "/opt/miniconda3/envs/bigfish_v6/lib/python3.7/site-packages/numpy/core/_methods.py:189: RuntimeWarning: invalid value encountered in double_scalars\n",
      "  ret = ret.dtype.type(ret / rcount)\n"
     ]
    },
    {
     "data": {
      "text/html": [
       "<div>\n",
       "<style scoped>\n",
       "    .dataframe tbody tr th:only-of-type {\n",
       "        vertical-align: middle;\n",
       "    }\n",
       "\n",
       "    .dataframe tbody tr th {\n",
       "        vertical-align: top;\n",
       "    }\n",
       "\n",
       "    .dataframe thead th {\n",
       "        text-align: right;\n",
       "    }\n",
       "</style>\n",
       "<table border=\"1\" class=\"dataframe\">\n",
       "  <thead>\n",
       "    <tr style=\"text-align: right;\">\n",
       "      <th></th>\n",
       "      <th>file_name</th>\n",
       "      <th>channel</th>\n",
       "      <th>total_RNAs</th>\n",
       "      <th>cytosolic_RNAs</th>\n",
       "      <th>foci_count</th>\n",
       "      <th>mol_per_foci</th>\n",
       "    </tr>\n",
       "  </thead>\n",
       "  <tbody>\n",
       "    <tr>\n",
       "      <th>0</th>\n",
       "      <td>FISH-01_4h_17_bsub50_ch4_results_cell_0.npz</td>\n",
       "      <td>ch4</td>\n",
       "      <td>9</td>\n",
       "      <td>9.0</td>\n",
       "      <td>0</td>\n",
       "      <td>NaN</td>\n",
       "    </tr>\n",
       "    <tr>\n",
       "      <th>1</th>\n",
       "      <td>FISH-01_4h_17_bsub50_ch4_results_cell_1.npz</td>\n",
       "      <td>ch4</td>\n",
       "      <td>3637</td>\n",
       "      <td>2531.0</td>\n",
       "      <td>44</td>\n",
       "      <td>25.136364</td>\n",
       "    </tr>\n",
       "    <tr>\n",
       "      <th>2</th>\n",
       "      <td>FISH-01_4h_17_bsub50_ch4_results_cell_3.npz</td>\n",
       "      <td>ch4</td>\n",
       "      <td>133</td>\n",
       "      <td>117.0</td>\n",
       "      <td>1</td>\n",
       "      <td>16.000000</td>\n",
       "    </tr>\n",
       "    <tr>\n",
       "      <th>3</th>\n",
       "      <td>FISH-01_4h_17_bsub50_ch4_results_cell_2.npz</td>\n",
       "      <td>ch4</td>\n",
       "      <td>1</td>\n",
       "      <td>1.0</td>\n",
       "      <td>0</td>\n",
       "      <td>NaN</td>\n",
       "    </tr>\n",
       "    <tr>\n",
       "      <th>4</th>\n",
       "      <td>FISH-01_4h_17_bsub50_ch4_results_cell_5.npz</td>\n",
       "      <td>ch4</td>\n",
       "      <td>7</td>\n",
       "      <td>7.0</td>\n",
       "      <td>0</td>\n",
       "      <td>NaN</td>\n",
       "    </tr>\n",
       "    <tr>\n",
       "      <th>5</th>\n",
       "      <td>FISH-01_4h_17_bsub50_ch4_results_cell_4.npz</td>\n",
       "      <td>ch4</td>\n",
       "      <td>7</td>\n",
       "      <td>7.0</td>\n",
       "      <td>0</td>\n",
       "      <td>NaN</td>\n",
       "    </tr>\n",
       "  </tbody>\n",
       "</table>\n",
       "</div>"
      ],
      "text/plain": [
       "                                     file_name channel  total_RNAs  \\\n",
       "0  FISH-01_4h_17_bsub50_ch4_results_cell_0.npz     ch4           9   \n",
       "1  FISH-01_4h_17_bsub50_ch4_results_cell_1.npz     ch4        3637   \n",
       "2  FISH-01_4h_17_bsub50_ch4_results_cell_3.npz     ch4         133   \n",
       "3  FISH-01_4h_17_bsub50_ch4_results_cell_2.npz     ch4           1   \n",
       "4  FISH-01_4h_17_bsub50_ch4_results_cell_5.npz     ch4           7   \n",
       "5  FISH-01_4h_17_bsub50_ch4_results_cell_4.npz     ch4           7   \n",
       "\n",
       "   cytosolic_RNAs  foci_count  mol_per_foci  \n",
       "0             9.0           0           NaN  \n",
       "1          2531.0          44     25.136364  \n",
       "2           117.0           1     16.000000  \n",
       "3             1.0           0           NaN  \n",
       "4             7.0           0           NaN  \n",
       "5             7.0           0           NaN  "
      ]
     },
     "execution_count": 5,
     "metadata": {},
     "output_type": "execute_result"
    }
   ],
   "source": [
    "# build a dataframe from .npz files\n",
    "indir = './example_script_output/'\n",
    "infiles = [x for x in os.listdir(indir) if x.endswith('.npz')]\n",
    "\n",
    "# prepare buckets for the data\n",
    "file_name = []\n",
    "channel = []\n",
    "total_RNAs = []\n",
    "cytosolic_RNAs = []\n",
    "foci_count = []\n",
    "mol_per_foci = []\n",
    "    \n",
    "# parse .npz files\n",
    "for file in infiles:\n",
    "    data = np.load(os.path.join(indir, file))\n",
    "    file_name.append(file)\n",
    "    total_RNAs.append(data['rna_coord'].shape[0])\n",
    "    cytosolic_RNAs.append(data['rna_coord'].shape[0] - sum(data[\"foci\"][:, 3]))\n",
    "    foci_count.append(data['foci'].shape[0])\n",
    "    mol_per_foci.append(np.mean((data['foci'][:,3])))\n",
    "\n",
    "    if 'ch0' in file:\n",
    "        channel.append('ch0')\n",
    "    if 'ch1' in file:\n",
    "        channel.append('ch1')  \n",
    "    if 'ch2' in file:\n",
    "        channel.append('ch2')\n",
    "    if 'ch3' in file:\n",
    "        channel.append('ch3')\n",
    "    if 'ch4' in file:\n",
    "        channel.append('ch4')\n",
    "\n",
    "data_tall = pd.DataFrame(list(zip(file_name, channel, total_RNAs,\n",
    "                            cytosolic_RNAs, foci_count, mol_per_foci)),\n",
    "            columns =['file_name', 'channel', 'total_RNAs',\n",
    "                            'cytosolic_RNAs', 'foci_count', 'mol_per_foci'])\n",
    "\n",
    "data_tall"
   ]
  },
  {
   "cell_type": "code",
   "execution_count": 6,
   "id": "29c6f13a",
   "metadata": {},
   "outputs": [],
   "source": [
    "# save a csv\n",
    "data_tall.to_csv('smFISH_final_summary_output.csv')"
   ]
  },
  {
   "cell_type": "code",
   "execution_count": null,
   "id": "5751082a",
   "metadata": {},
   "outputs": [],
   "source": []
  }
 ],
 "metadata": {
  "kernelspec": {
   "display_name": "Python 3 (ipykernel)",
   "language": "python",
   "name": "python3"
  },
  "language_info": {
   "codemirror_mode": {
    "name": "ipython",
    "version": 3
   },
   "file_extension": ".py",
   "mimetype": "text/x-python",
   "name": "python",
   "nbconvert_exporter": "python",
   "pygments_lexer": "ipython3",
   "version": "3.7.12"
  },
  "vscode": {
   "interpreter": {
    "hash": "496b5c86bed5a744d0186162a203b2e83d8fe1bac999fac3e909b2068634c307"
   }
  }
 },
 "nbformat": 4,
 "nbformat_minor": 5
}
