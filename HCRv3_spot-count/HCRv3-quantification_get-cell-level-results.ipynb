{
 "cells": [
  {
   "cell_type": "markdown",
   "id": "nasty-resolution",
   "metadata": {},
   "source": [
    "# Notebook for extracting cell level results post-bigfish\n",
    "## For HCRv3 analaysis mode with no cluster decomposition elements\n",
    "## Using Big-fish v0.6.2\n",
    "## Revised: 2023.05.22"
   ]
  },
  {
   "cell_type": "code",
   "execution_count": 1,
   "id": "17fd1ebf",
   "metadata": {
    "tags": []
   },
   "outputs": [
    {
     "name": "stdout",
     "output_type": "stream",
     "text": [
      "Big-FISH version: 0.6.2\n"
     ]
    }
   ],
   "source": [
    "import os\n",
    "import time\n",
    "\n",
    "from skimage.measure import regionprops\n",
    "import numpy as np\n",
    "import tifffile\n",
    "import matplotlib.pyplot as plt\n",
    "import pathlib\n",
    "import pandas as pd\n",
    "\n",
    "import bigfish\n",
    "import bigfish.stack as stack\n",
    "import bigfish.multistack as multistack \n",
    "\n",
    "print(\"Big-FISH version: {0}\".format(bigfish.__version__))"
   ]
  },
  {
   "cell_type": "code",
   "execution_count": 17,
   "id": "5ce7c8f2",
   "metadata": {},
   "outputs": [
    {
     "data": {
      "text/plain": [
       "'130323_Dhc8-1-6-6_Gdi565_Rab11647_L2_1_ch1_bfoutput.npz'"
      ]
     },
     "execution_count": 17,
     "metadata": {},
     "output_type": "execute_result"
    }
   ],
   "source": [
    "# Assign directories of npz files and masks\n",
    "npz_dir = \"/Users/jefflee/Desktop/npz_dir/\"\n",
    "npz_files = [x for x in os.listdir(npz_dir) if x.endswith('.npz')]\n",
    "mask_dir = \"/Users/jefflee/Desktop/mask_dir/\"\n",
    "mask_prefix = \"Hys_\"\n",
    "npz_files[0]"
   ]
  },
  {
   "cell_type": "code",
   "execution_count": 141,
   "id": "dba3ada5",
   "metadata": {},
   "outputs": [
    {
     "name": "stdout",
     "output_type": "stream",
     "text": [
      "processing 130323_Dhc8-1-6-6_Gdi565_Rab11647_L2_1_ch1_bfoutput.npz\n",
      "processing 130323_Dhc8-1-6-6_Gdi565_Rab11647_L2_1_ch0_bfoutput.npz\n"
     ]
    }
   ],
   "source": [
    "# Assign directories of npz files and masks\n",
    "npz_dir = \"/Users/jefflee/Desktop/npz_dir/\"\n",
    "npz_files = [x for x in os.listdir(npz_dir) if x.endswith('.npz')]\n",
    "mask_dir = \"/Users/jefflee/Desktop/mask_dir/\"\n",
    "mask_prefix = \"Hys_\"\n",
    "\n",
    "for file in npz_files:\n",
    "\n",
    "    # get bigfish data\n",
    "    print(f\"processing {file}\")\n",
    "    data = np.load(os.path.join(npz_dir, file))\n",
    "    spots_post_subpixel = data[\"spots\"]\n",
    "\n",
    "    # get mask image\n",
    "    mask_filename = f\"{mask_prefix}{file[0:-17]}.tif\"\n",
    "    # print(f\"mask file is {mask_filename}\")\n",
    "    masks = tifffile.imread(os.path.join(mask_dir, mask_filename))\n",
    "\n",
    "    # extract cell level results\n",
    "    fov_results = []\n",
    "    cell_label = masks.astype(np.int64)\n",
    "    cells = regionprops(cell_label)\n",
    "    for cell in cells:\n",
    "        cell_results = {}\n",
    "\n",
    "        # cell id\n",
    "        label = cell.label\n",
    "        cell_results[\"cell_id\"] = label\n",
    "\n",
    "        # rna_coord\n",
    "        coord_int = np.floor(spots_post_subpixel).astype(np.int64)[:, 0:3]\n",
    "        within_mask = []\n",
    "        for rna in coord_int:\n",
    "            if masks[tuple(rna)] == label:\n",
    "                in_mask = 1\n",
    "            elif masks[tuple(rna)] == 0:\n",
    "                in_mask = 0\n",
    "            within_mask.append(in_mask)\n",
    "        spots_post_subpixel_masked = np.column_stack((spots_post_subpixel[:, 0:3], within_mask))\n",
    "        cell_results[\"rna_coord\"] = spots_post_subpixel[spots_post_subpixel_masked[:, 3] == 1]\n",
    "\n",
    "        fov_results.append(cell_results)\n",
    "\n",
    "        for i, cell_results in enumerate(fov_results):\n",
    "            output_path = pathlib.Path(mask_dir).joinpath(\n",
    "                f\"{os.path.basename(file)}_results_cell_{i}.npz\"\n",
    "            )\n",
    "            stack.save_cell_extracted(cell_results, str(output_path))\n",
    "    "
   ]
  },
  {
   "cell_type": "code",
   "execution_count": 143,
   "id": "63bec082",
   "metadata": {},
   "outputs": [
    {
     "name": "stderr",
     "output_type": "stream",
     "text": [
      "/opt/miniconda3/envs/bigfish_v6/lib/python3.7/site-packages/numpy/core/fromnumeric.py:3441: RuntimeWarning: Mean of empty slice.\n",
      "  out=out, **kwargs)\n",
      "/opt/miniconda3/envs/bigfish_v6/lib/python3.7/site-packages/numpy/core/_methods.py:189: RuntimeWarning: invalid value encountered in double_scalars\n",
      "  ret = ret.dtype.type(ret / rcount)\n"
     ]
    },
    {
     "data": {
      "text/html": [
       "<div>\n",
       "<style scoped>\n",
       "    .dataframe tbody tr th:only-of-type {\n",
       "        vertical-align: middle;\n",
       "    }\n",
       "\n",
       "    .dataframe tbody tr th {\n",
       "        vertical-align: top;\n",
       "    }\n",
       "\n",
       "    .dataframe thead th {\n",
       "        text-align: right;\n",
       "    }\n",
       "</style>\n",
       "<table border=\"1\" class=\"dataframe\">\n",
       "  <thead>\n",
       "    <tr style=\"text-align: right;\">\n",
       "      <th></th>\n",
       "      <th>file_name</th>\n",
       "      <th>channel</th>\n",
       "      <th>total_RNAs</th>\n",
       "      <th>cytosolic_RNAs</th>\n",
       "      <th>foci_count</th>\n",
       "      <th>mol_per_foci</th>\n",
       "    </tr>\n",
       "  </thead>\n",
       "  <tbody>\n",
       "    <tr>\n",
       "      <th>0</th>\n",
       "      <td>130323_Dhc8-1-6-6_Gdi565_Rab11647_L2_1_ch1_bfo...</td>\n",
       "      <td>ch1</td>\n",
       "      <td>148</td>\n",
       "      <td>78.0</td>\n",
       "      <td>2</td>\n",
       "      <td>35.0</td>\n",
       "    </tr>\n",
       "    <tr>\n",
       "      <th>1</th>\n",
       "      <td>130323_Dhc8-1-6-6_Gdi565_Rab11647_L2_1_ch0_bfo...</td>\n",
       "      <td>ch0</td>\n",
       "      <td>31</td>\n",
       "      <td>31.0</td>\n",
       "      <td>0</td>\n",
       "      <td>NaN</td>\n",
       "    </tr>\n",
       "  </tbody>\n",
       "</table>\n",
       "</div>"
      ],
      "text/plain": [
       "                                           file_name channel  total_RNAs  \\\n",
       "0  130323_Dhc8-1-6-6_Gdi565_Rab11647_L2_1_ch1_bfo...     ch1         148   \n",
       "1  130323_Dhc8-1-6-6_Gdi565_Rab11647_L2_1_ch0_bfo...     ch0          31   \n",
       "\n",
       "   cytosolic_RNAs  foci_count  mol_per_foci  \n",
       "0            78.0           2          35.0  \n",
       "1            31.0           0           NaN  "
      ]
     },
     "execution_count": 143,
     "metadata": {},
     "output_type": "execute_result"
    }
   ],
   "source": [
    "indir = mask_dir\n",
    "infiles = [x for x in os.listdir(indir) if x.endswith('.npz')]\n",
    "\n",
    "# prepare buckets for the data\n",
    "file_name = []\n",
    "channel = []\n",
    "total_RNAs = []\n",
    "cytosolic_RNAs = []\n",
    "foci_count = []\n",
    "mol_per_foci = []\n",
    "    \n",
    "# parse .npz files\n",
    "for file in infiles:\n",
    "    data = np.load(os.path.join(indir, file))\n",
    "    file_name.append(file)\n",
    "    total_RNAs.append(data['rna_coord'].shape[0])\n",
    "\n",
    "    if 'ch0' in file:\n",
    "        channel.append('ch0')\n",
    "    if 'ch1' in file:\n",
    "        channel.append('ch1')  \n",
    "    if 'ch2' in file:\n",
    "        channel.append('ch2')\n",
    "    if 'ch3' in file:\n",
    "        channel.append('ch3')\n",
    "    if 'ch4' in file:\n",
    "        channel.append('ch4')\n",
    "\n",
    "data_tall = pd.DataFrame(list(zip(file_name, channel, total_RNAs)),\n",
    "            columns =['file_name', 'channel', 'total_RNAs'])\n",
    "\n",
    "data_tall"
   ]
  },
  {
   "cell_type": "code",
   "execution_count": 26,
   "id": "1f1e3a70",
   "metadata": {},
   "outputs": [],
   "source": [
    "# save a csv\n",
    "data_tall.to_csv('smFISH_final_summary_output.csv')"
   ]
  },
  {
   "cell_type": "code",
   "execution_count": null,
   "id": "15370b9a",
   "metadata": {},
   "outputs": [],
   "source": []
  }
 ],
 "metadata": {
  "kernelspec": {
   "display_name": "Python 3 (ipykernel)",
   "language": "python",
   "name": "python3"
  },
  "language_info": {
   "codemirror_mode": {
    "name": "ipython",
    "version": 3
   },
   "file_extension": ".py",
   "mimetype": "text/x-python",
   "name": "python",
   "nbconvert_exporter": "python",
   "pygments_lexer": "ipython3",
   "version": "3.7.12"
  },
  "vscode": {
   "interpreter": {
    "hash": "f49a340d4dac1e5881f81052afae8eb5c7c74f33d1b066be2ccadc9b2fa91ff4"
   }
  }
 },
 "nbformat": 4,
 "nbformat_minor": 5
}
